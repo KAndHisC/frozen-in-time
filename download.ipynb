{
 "cells": [
  {
   "cell_type": "code",
   "execution_count": 11,
   "metadata": {},
   "outputs": [],
   "source": [
    "import os\n",
    "import numpy as np\n",
    "import requests\n",
    "import concurrent.futures\n",
    "import pandas as pd\n",
    "import decord"
   ]
  },
  {
   "cell_type": "code",
   "execution_count": null,
   "metadata": {},
   "outputs": [],
   "source": [
    "def read_frames_decord(video_path):\n",
    "    video_reader = decord.VideoReader(video_path, num_threads=1)\n",
    "    return"
   ]
  },
  {
   "cell_type": "code",
   "execution_count": 12,
   "metadata": {},
   "outputs": [],
   "source": [
    "def request_save(url, save_fp):\n",
    "    try:\n",
    "            if os.path.isfile(save_fp) and os.path.getsize(save_fp)>100000:\n",
    "                # imgs, idxs = video_reader(video_fp)\n",
    "                pass\n",
    "            else:\n",
    "                img_data = requests.get(url, timeout=5).content\n",
    "                with open(save_fp, 'wb') as handler:\n",
    "                    handler.write(img_data)\n",
    "    except Exception as e:\n",
    "        raise ValueError(\n",
    "            f'Video loading failed for {save_fp}, video loading for this dataset is strict.') from e\n",
    "        \n",
    "    "
   ]
  },
  {
   "cell_type": "code",
   "execution_count": 13,
   "metadata": {},
   "outputs": [],
   "source": [
    "# parameters\n",
    "class MyArgs():\n",
    "    def __init__(self) -> None:\n",
    "        self.partitions = 1\n",
    "        self.part = 0\n",
    "        self.data_dir = 'data/WebVid'\n",
    "        self.csv_path ='data/WebVid/release/results_2M_val.csv'\n",
    "        self.processes = 8"
   ]
  },
  {
   "cell_type": "code",
   "execution_count": 14,
   "metadata": {},
   "outputs": [
    {
     "data": {
      "text/plain": [
       "0"
      ]
     },
     "execution_count": 14,
     "metadata": {},
     "output_type": "execute_result"
    }
   ],
   "source": [
    "args = MyArgs()\n",
    "# split dataset\n",
    "### preproc\n",
    "video_dir = os.path.join(args.data_dir, 'videos')\n",
    "if not os.path.exists(os.path.join(video_dir, 'videos')):\n",
    "    os.makedirs(os.path.join(video_dir, 'videos'))\n",
    "\n",
    "# ASSUMES THE CSV FILE HAS BEEN SPLIT INTO N PARTS\n",
    "partition_dir = args.csv_path.replace('.csv', f'_{args.partitions}')\n",
    "# if not, then split in this job.\n",
    "if not os.path.exists(partition_dir):\n",
    "    os.makedirs(partition_dir)\n",
    "    full_df = pd.read_csv(args.csv_path)\n",
    "    df_split = np.array_split(full_df, args.partitions)\n",
    "    for idx, subdf in enumerate(df_split):\n",
    "        subdf.to_csv(os.path.join(partition_dir, f'{idx}.csv'), index=False)\n",
    "\n",
    "relevant_fp = os.path.join(args.data_dir, 'relevant_videos_exists.txt')\n",
    "if os.path.isfile(relevant_fp):\n",
    "    exists = pd.read_csv(os.path.join(args.data_dir, 'relevant_videos_exists.txt'), names=['fn'])\n",
    "else:\n",
    "    exists = []\n",
    "len(exists)"
   ]
  },
  {
   "cell_type": "code",
   "execution_count": 15,
   "metadata": {},
   "outputs": [
    {
     "name": "stdout",
     "output_type": "stream",
     "text": [
      "4998 1\n"
     ]
    }
   ],
   "source": [
    "# df = pd.read_csv(os.path.join(partition_dir, f'{args.part}.csv'))\n",
    "df = pd.read_csv(args.csv_path)\n",
    "l = len(df)\n",
    "# df[df.isnull().values==True]\n",
    "df = df.dropna(axis=0,how='any')\n",
    "l_a = len(df)\n",
    "print(l_a, l - l_a)"
   ]
  },
  {
   "cell_type": "code",
   "execution_count": 16,
   "metadata": {},
   "outputs": [
    {
     "data": {
      "text/html": [
       "<div>\n",
       "<style scoped>\n",
       "    .dataframe tbody tr th:only-of-type {\n",
       "        vertical-align: middle;\n",
       "    }\n",
       "\n",
       "    .dataframe tbody tr th {\n",
       "        vertical-align: top;\n",
       "    }\n",
       "\n",
       "    .dataframe thead th {\n",
       "        text-align: right;\n",
       "    }\n",
       "</style>\n",
       "<table border=\"1\" class=\"dataframe\">\n",
       "  <thead>\n",
       "    <tr style=\"text-align: right;\">\n",
       "      <th></th>\n",
       "      <th>videoid</th>\n",
       "      <th>name</th>\n",
       "      <th>page_idx</th>\n",
       "      <th>page_dir</th>\n",
       "      <th>duration</th>\n",
       "      <th>contentUrl</th>\n",
       "      <th>rel_fn</th>\n",
       "    </tr>\n",
       "  </thead>\n",
       "  <tbody>\n",
       "    <tr>\n",
       "      <th>0</th>\n",
       "      <td>1053841541</td>\n",
       "      <td>Travel blogger shoot a story on top of mountai...</td>\n",
       "      <td>27732</td>\n",
       "      <td>027701_027750</td>\n",
       "      <td>PT00H00M17S</td>\n",
       "      <td>https://ak.picdn.net/shutterstock/videos/10538...</td>\n",
       "      <td>027701_027750/1053841541.mp4</td>\n",
       "    </tr>\n",
       "    <tr>\n",
       "      <th>1</th>\n",
       "      <td>5641526</td>\n",
       "      <td>Horse grazing - seperated on green screen</td>\n",
       "      <td>28620</td>\n",
       "      <td>054101_054150</td>\n",
       "      <td>PT00H00M24S</td>\n",
       "      <td>https://ak.picdn.net/shutterstock/videos/56415...</td>\n",
       "      <td>054101_054150/5641526.mp4</td>\n",
       "    </tr>\n",
       "    <tr>\n",
       "      <th>2</th>\n",
       "      <td>1019039938</td>\n",
       "      <td>City traffic lights. blurred view</td>\n",
       "      <td>22404</td>\n",
       "      <td>022401_022450</td>\n",
       "      <td>PT00H00M13S</td>\n",
       "      <td>https://ak.picdn.net/shutterstock/videos/10190...</td>\n",
       "      <td>022401_022450/1019039938.mp4</td>\n",
       "    </tr>\n",
       "    <tr>\n",
       "      <th>3</th>\n",
       "      <td>6251156</td>\n",
       "      <td>Asian girl sexy santa claus isolated greenscre...</td>\n",
       "      <td>4046</td>\n",
       "      <td>004001_004050</td>\n",
       "      <td>PT00H00M16S</td>\n",
       "      <td>https://ak.picdn.net/shutterstock/videos/62511...</td>\n",
       "      <td>004001_004050/6251156.mp4</td>\n",
       "    </tr>\n",
       "    <tr>\n",
       "      <th>4</th>\n",
       "      <td>23720764</td>\n",
       "      <td>Young woman flexing muscles with barbell in gy...</td>\n",
       "      <td>13617</td>\n",
       "      <td>013601_013650</td>\n",
       "      <td>PT00H00M24S</td>\n",
       "      <td>https://ak.picdn.net/shutterstock/videos/23720...</td>\n",
       "      <td>013601_013650/23720764.mp4</td>\n",
       "    </tr>\n",
       "  </tbody>\n",
       "</table>\n",
       "</div>"
      ],
      "text/plain": [
       "      videoid                                               name  page_idx  \\\n",
       "0  1053841541  Travel blogger shoot a story on top of mountai...     27732   \n",
       "1     5641526          Horse grazing - seperated on green screen     28620   \n",
       "2  1019039938                  City traffic lights. blurred view     22404   \n",
       "3     6251156  Asian girl sexy santa claus isolated greenscre...      4046   \n",
       "4    23720764  Young woman flexing muscles with barbell in gy...     13617   \n",
       "\n",
       "        page_dir     duration  \\\n",
       "0  027701_027750  PT00H00M17S   \n",
       "1  054101_054150  PT00H00M24S   \n",
       "2  022401_022450  PT00H00M13S   \n",
       "3  004001_004050  PT00H00M16S   \n",
       "4  013601_013650  PT00H00M24S   \n",
       "\n",
       "                                          contentUrl  \\\n",
       "0  https://ak.picdn.net/shutterstock/videos/10538...   \n",
       "1  https://ak.picdn.net/shutterstock/videos/56415...   \n",
       "2  https://ak.picdn.net/shutterstock/videos/10190...   \n",
       "3  https://ak.picdn.net/shutterstock/videos/62511...   \n",
       "4  https://ak.picdn.net/shutterstock/videos/23720...   \n",
       "\n",
       "                         rel_fn  \n",
       "0  027701_027750/1053841541.mp4  \n",
       "1     054101_054150/5641526.mp4  \n",
       "2  022401_022450/1019039938.mp4  \n",
       "3     004001_004050/6251156.mp4  \n",
       "4    013601_013650/23720764.mp4  "
      ]
     },
     "execution_count": 16,
     "metadata": {},
     "output_type": "execute_result"
    }
   ],
   "source": [
    "df['rel_fn'] = df.apply(lambda x: os.path.join(x['page_dir'], str(x['videoid'])), axis=1)\n",
    "df['rel_fn'] = df['rel_fn'] + '.mp4'\n",
    "df = df[~df['rel_fn'].isin(exists)]\n",
    "df.head()"
   ]
  },
  {
   "cell_type": "code",
   "execution_count": 7,
   "metadata": {},
   "outputs": [
    {
     "data": {
      "text/plain": [
       "1864"
      ]
     },
     "execution_count": 7,
     "metadata": {},
     "output_type": "execute_result"
    }
   ],
   "source": [
    "playlists_to_dl = np.sort(df['page_dir'].unique())\n",
    "len(playlists_to_dl)"
   ]
  },
  {
   "cell_type": "code",
   "execution_count": 10,
   "metadata": {},
   "outputs": [
    {
     "name": "stdout",
     "output_type": "stream",
     "text": [
      "data/WebVid/videos/000001_000050\n"
     ]
    }
   ],
   "source": [
    "for page_dir in playlists_to_dl:\n",
    "    vid_dir_t = os.path.join(video_dir, page_dir)\n",
    "    # print(vid_dir_t)\n",
    "    # break\n",
    "    pdf = df[df['page_dir'] == page_dir]\n",
    "    if len(pdf) > 0:\n",
    "        if not os.path.exists(vid_dir_t):\n",
    "            os.makedirs(vid_dir_t)\n",
    "\n",
    "        urls_todo = []\n",
    "        save_fps = []\n",
    "\n",
    "        for idx, row in pdf.iterrows():\n",
    "            video_fp = os.path.join(vid_dir_t, str(row['videoid']) + '.mp4')\n",
    "\n",
    "            urls_todo.append(row['contentUrl'])\n",
    "            save_fps.append(video_fp)\n",
    "\n",
    "        # print(f'Spawning {len(urls_todo)} jobs for page {page_dir}')\n",
    "        with concurrent.futures.ThreadPoolExecutor(max_workers=args.processes) as executor:\n",
    "            future_to_url = {executor.submit(request_save, url, fp) for url, fp in zip(urls_todo, save_fps)}"
   ]
  },
  {
   "cell_type": "code",
   "execution_count": null,
   "metadata": {},
   "outputs": [],
   "source": []
  }
 ],
 "metadata": {
  "interpreter": {
   "hash": "3a30bafa3dbc767c3b91272f6cd85377aa2073d1d1a663652dd0bcaf36cbd6e5"
  },
  "kernelspec": {
   "display_name": "Python 3.7.11 64-bit ('frozen': conda)",
   "language": "python",
   "name": "python3"
  },
  "language_info": {
   "codemirror_mode": {
    "name": "ipython",
    "version": 3
   },
   "file_extension": ".py",
   "mimetype": "text/x-python",
   "name": "python",
   "nbconvert_exporter": "python",
   "pygments_lexer": "ipython3",
   "version": "3.7.11"
  },
  "orig_nbformat": 4
 },
 "nbformat": 4,
 "nbformat_minor": 2
}
